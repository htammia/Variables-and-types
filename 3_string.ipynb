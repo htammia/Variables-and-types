{
 "cells": [
  {
   "cell_type": "markdown",
   "metadata": {},
   "source": [
    "Simple string declaration:"
   ]
  },
  {
   "cell_type": "code",
   "execution_count": 2,
   "metadata": {},
   "outputs": [
    {
     "name": "stdout",
     "output_type": "stream",
     "text": [
      "Hello\n",
      "World\n"
     ]
    }
   ],
   "source": [
    "str1 = 'Hello'\n",
    "print(str1)\n",
    "\n",
    "str2 = \"World\"\n",
    "print(str2)"
   ]
  },
  {
   "cell_type": "markdown",
   "metadata": {},
   "source": [
    "Always ensure that the embedded quotes are different from the surrounding quotes. Otherwise, you will get an error:"
   ]
  },
  {
   "cell_type": "code",
   "execution_count": 3,
   "metadata": {},
   "outputs": [
    {
     "ename": "SyntaxError",
     "evalue": "unterminated string literal (detected at line 1) (2953866619.py, line 1)",
     "output_type": "error",
     "traceback": [
      "\u001b[1;36m  Cell \u001b[1;32mIn[3], line 1\u001b[1;36m\u001b[0m\n\u001b[1;33m    str1 = 'Mary's'\u001b[0m\n\u001b[1;37m                  ^\u001b[0m\n\u001b[1;31mSyntaxError\u001b[0m\u001b[1;31m:\u001b[0m unterminated string literal (detected at line 1)\n"
     ]
    }
   ],
   "source": [
    "str1 = 'Mary's' \n",
    "print(str1)\n"
   ]
  },
  {
   "cell_type": "code",
   "execution_count": 4,
   "metadata": {},
   "outputs": [
    {
     "name": "stdout",
     "output_type": "stream",
     "text": [
      "Mary's\n"
     ]
    }
   ],
   "source": [
    "str1 = \"Mary's\" \n",
    "print(str1)"
   ]
  },
  {
   "cell_type": "code",
   "execution_count": 5,
   "metadata": {},
   "outputs": [
    {
     "name": "stdout",
     "output_type": "stream",
     "text": [
      "Mary's\n"
     ]
    }
   ],
   "source": [
    "str1 = 'Mary\\'s' #You can also use an escape character to handle these tricky quotes situations. \n",
    "print(str1)"
   ]
  },
  {
   "cell_type": "code",
   "execution_count": 6,
   "metadata": {},
   "outputs": [
    {
     "ename": "SyntaxError",
     "evalue": "invalid syntax (60863673.py, line 1)",
     "output_type": "error",
     "traceback": [
      "\u001b[1;36m  Cell \u001b[1;32mIn[6], line 1\u001b[1;36m\u001b[0m\n\u001b[1;33m    str2 = \"He was called \"Bond007\" \"\u001b[0m\n\u001b[1;37m                           ^\u001b[0m\n\u001b[1;31mSyntaxError\u001b[0m\u001b[1;31m:\u001b[0m invalid syntax\n"
     ]
    }
   ],
   "source": [
    "str2 = \"He was called \"Bond007\" \"\n",
    "print(str2)"
   ]
  },
  {
   "cell_type": "code",
   "execution_count": 7,
   "metadata": {},
   "outputs": [
    {
     "name": "stdout",
     "output_type": "stream",
     "text": [
      "He was called \"Bond007\" \n"
     ]
    }
   ],
   "source": [
    "str2 = 'He was called \"Bond007\" '\n",
    "print(str2)"
   ]
  },
  {
   "cell_type": "markdown",
   "metadata": {},
   "source": [
    "Multiline strings can be created as follows:"
   ]
  },
  {
   "cell_type": "code",
   "execution_count": 8,
   "metadata": {},
   "outputs": [
    {
     "name": "stdout",
     "output_type": "stream",
     "text": [
      "Twinkle, twinkle, little star,\n",
      "how I wonder what you are.\n",
      "Up above the world so high,\n",
      "Like a diamond in the sky.\n",
      "\n"
     ]
    }
   ],
   "source": [
    "poem = \"\"\"Twinkle, twinkle, little star,\n",
    "how I wonder what you are.\n",
    "Up above the world so high,\n",
    "Like a diamond in the sky.\n",
    "\"\"\"\n",
    "\n",
    "print(poem)"
   ]
  },
  {
   "cell_type": "markdown",
   "metadata": {},
   "source": [
    "Multiline strings can also be created using three single quotes:"
   ]
  },
  {
   "cell_type": "code",
   "execution_count": 9,
   "metadata": {},
   "outputs": [
    {
     "name": "stdout",
     "output_type": "stream",
     "text": [
      "Twinkle, twinkle, little star,\n",
      "how I wonder what you are.\n",
      "Up above the world so high,\n",
      "Like a diamond in the sky.\n"
     ]
    }
   ],
   "source": [
    "poem = '''Twinkle, twinkle, little star,\n",
    "how I wonder what you are.\n",
    "Up above the world so high,\n",
    "Like a diamond in the sky.'''\n",
    "\n",
    "print(poem)"
   ]
  },
  {
   "cell_type": "markdown",
   "metadata": {},
   "source": [
    "There is no 'char' data type in Python. A single character is also a String data type:"
   ]
  },
  {
   "cell_type": "code",
   "execution_count": 10,
   "metadata": {},
   "outputs": [
    {
     "name": "stdout",
     "output_type": "stream",
     "text": [
      "a\n",
      "<class 'str'>\n"
     ]
    }
   ],
   "source": [
    "char = 'a'\n",
    "print(char)\n",
    "print(type(char))"
   ]
  },
  {
   "cell_type": "markdown",
   "metadata": {},
   "source": [
    "Character is just a string of length 1 in Python:"
   ]
  },
  {
   "cell_type": "code",
   "execution_count": 11,
   "metadata": {},
   "outputs": [
    {
     "name": "stdout",
     "output_type": "stream",
     "text": [
      "a\n",
      "<class 'str'>\n"
     ]
    }
   ],
   "source": [
    "single_char = 'a'\n",
    "print(single_char)\n",
    "print(type(single_char))"
   ]
  },
  {
   "cell_type": "markdown",
   "metadata": {},
   "source": [
    "Therefore, any string is simply an array of characters:"
   ]
  },
  {
   "cell_type": "code",
   "execution_count": 12,
   "metadata": {},
   "outputs": [
    {
     "name": "stdout",
     "output_type": "stream",
     "text": [
      "H\n",
      "e\n",
      "o\n",
      "l\n"
     ]
    }
   ],
   "source": [
    "str1 = 'Hello'\n",
    "print(str1[0])\n",
    "print(str1[1])\n",
    "\n",
    "print(str1[-1]) # Will print the last character. '-1' means the last character\n",
    "print(str1[-2]) # Will print the second last character. '-2' means the second last character, and so on."
   ]
  },
  {
   "cell_type": "markdown",
   "metadata": {},
   "source": [
    "Concatenating (combining) several characters into a single string:   "
   ]
  },
  {
   "cell_type": "code",
   "execution_count": 13,
   "metadata": {},
   "outputs": [
    {
     "name": "stdout",
     "output_type": "stream",
     "text": [
      "Hell0\n",
      "H e l l 0\n"
     ]
    }
   ],
   "source": [
    "char1 = 'H'\n",
    "char2 = 'e'\n",
    "char3 = 'l'\n",
    "char4 = 'l'\n",
    "char5 = '0'\n",
    "\n",
    "str1 = char1 + char2 + char3 + char4 + char5\n",
    "print(str1)\n",
    "\n",
    "str2 = char1 + \" \" + char2 + \" \" + char3 + \" \" + char4 + \" \" + char5\n",
    "print(str2)"
   ]
  },
  {
   "cell_type": "markdown",
   "metadata": {},
   "source": [
    "Check if a certain character is part of a string:"
   ]
  },
  {
   "cell_type": "code",
   "execution_count": 14,
   "metadata": {},
   "outputs": [
    {
     "name": "stdout",
     "output_type": "stream",
     "text": [
      "J is in str\n",
      "j is not in str\n",
      "space is in str\n",
      "z is not in str\n"
     ]
    }
   ],
   "source": [
    "str1 = 'James Bond'\n",
    "if 'J' in str1:\n",
    "    print('J is in str')\n",
    "else:\n",
    "    print('J is not in str')\n",
    "\n",
    "if 'j' in str1:\n",
    "    print('j is in str')\n",
    "else:\n",
    "    print('j is not in str')\n",
    "\n",
    "if ' ' in str1:\n",
    "    print('space is in str')\n",
    "else:\n",
    "    print('space is not in str')\n",
    "if 'z' not in str1:\n",
    "    print('z is not in str')\n",
    "else:\n",
    "    print('z is in str')"
   ]
  }
 ],
 "metadata": {
  "kernelspec": {
   "display_name": "base",
   "language": "python",
   "name": "python3"
  },
  "language_info": {
   "codemirror_mode": {
    "name": "ipython",
    "version": 3
   },
   "file_extension": ".py",
   "mimetype": "text/x-python",
   "name": "python",
   "nbconvert_exporter": "python",
   "pygments_lexer": "ipython3",
   "version": "3.12.7"
  }
 },
 "nbformat": 4,
 "nbformat_minor": 2
}
