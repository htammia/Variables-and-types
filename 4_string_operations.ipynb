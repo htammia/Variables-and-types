{
 "cells": [
  {
   "cell_type": "markdown",
   "metadata": {},
   "source": [
    "String concatenation (combining) works the same way as character concatenation:"
   ]
  },
  {
   "cell_type": "code",
   "execution_count": 1,
   "metadata": {},
   "outputs": [
    {
     "name": "stdout",
     "output_type": "stream",
     "text": [
      "Alice In Wonderland\n"
     ]
    }
   ],
   "source": [
    "str1 = 'Alice'\n",
    "str2 = 'In'\n",
    "str3 = 'Wonderland'\n",
    "concatenated_string = str1 + ' ' + str2 + ' ' + str3 # ' ' adds a space between the strings\n",
    "\n",
    "print(concatenated_string)"
   ]
  },
  {
   "cell_type": "markdown",
   "metadata": {},
   "source": [
    "String repetition:"
   ]
  },
  {
   "cell_type": "code",
   "execution_count": 2,
   "metadata": {},
   "outputs": [
    {
     "name": "stdout",
     "output_type": "stream",
     "text": [
      "Candyman! Candyman! Candyman! \n"
     ]
    }
   ],
   "source": [
    "str1 = 'Candyman! '\n",
    "repeated_string = str1 * 3 # ' * 3' repeats the string 3 times\n",
    "print(repeated_string)"
   ]
  },
  {
   "cell_type": "markdown",
   "metadata": {},
   "source": [
    "Calculating string length using len() function:"
   ]
  },
  {
   "cell_type": "code",
   "execution_count": 3,
   "metadata": {},
   "outputs": [
    {
     "name": "stdout",
     "output_type": "stream",
     "text": [
      "15\n"
     ]
    }
   ],
   "source": [
    "str1 = 'Aurora Borealis'\n",
    "length = len(str1)\n",
    "print(length)"
   ]
  },
  {
   "cell_type": "markdown",
   "metadata": {},
   "source": [
    "String slicing means extracting part of a string:"
   ]
  },
  {
   "cell_type": "code",
   "execution_count": 4,
   "metadata": {},
   "outputs": [
    {
     "name": "stdout",
     "output_type": "stream",
     "text": [
      "Da\n",
      "ta Analysis\n",
      "Data\n",
      "sis\n"
     ]
    }
   ],
   "source": [
    "word = \"Data Analysis\"\n",
    "slice1 = word[0:2] # Extract all characters from index 0 to index 2, except the last character \n",
    "print(slice1)  \n",
    "\n",
    "slice2 = word[2:] # Extract all characters from index 2 until the end \n",
    "print(slice2)  \n",
    "\n",
    "slice3 = word[:4] # Extract all characters from index 0 to index 4, except the last character  \n",
    "print(slice3)  \n",
    "\n",
    "slice4 = word[-3:] # Extract all characters from index -3 until the end \n",
    "print(slice4)  \n",
    "\n",
    "\n"
   ]
  },
  {
   "cell_type": "markdown",
   "metadata": {},
   "source": [
    "Looping through a string:"
   ]
  },
  {
   "cell_type": "code",
   "execution_count": 5,
   "metadata": {},
   "outputs": [
    {
     "name": "stdout",
     "output_type": "stream",
     "text": [
      "P\n",
      "y\n",
      "t\n",
      "h\n",
      "o\n",
      "n\n"
     ]
    }
   ],
   "source": [
    "str1 = 'Python'\n",
    "for x in str1:\n",
    "    print(x)"
   ]
  },
  {
   "cell_type": "markdown",
   "metadata": {},
   "source": [
    "Checking a substring in a string:"
   ]
  },
  {
   "cell_type": "code",
   "execution_count": 6,
   "metadata": {},
   "outputs": [
    {
     "name": "stdout",
     "output_type": "stream",
     "text": [
      "False\n",
      "True\n",
      "False\n",
      "True\n"
     ]
    }
   ],
   "source": [
    "str1 = 'Data analysis using pythong'\n",
    "print(\"data\" in str1) # Check whether 'data' is present in the string\n",
    "print('Data' in str1) # Check whether 'Data' is present in the string\n",
    "print(\"Java\" in str1) # Check whether 'Java' is present in the string\n",
    "print(\"Java\" not in str1) # Check whether 'Java' is not present in the string"
   ]
  },
  {
   "cell_type": "markdown",
   "metadata": {},
   "source": [
    "Formatting string means combining string with a variable of a different type"
   ]
  },
  {
   "cell_type": "code",
   "execution_count": 7,
   "metadata": {},
   "outputs": [
    {
     "ename": "TypeError",
     "evalue": "can only concatenate str (not \"int\") to str",
     "output_type": "error",
     "traceback": [
      "\u001b[1;31m---------------------------------------------------------------------------\u001b[0m",
      "\u001b[1;31mTypeError\u001b[0m                                 Traceback (most recent call last)",
      "Cell \u001b[1;32mIn[7], line 3\u001b[0m\n\u001b[0;32m      1\u001b[0m name \u001b[38;5;241m=\u001b[39m \u001b[38;5;124m\"\u001b[39m\u001b[38;5;124mSherlock Holmes\u001b[39m\u001b[38;5;124m\"\u001b[39m\n\u001b[0;32m      2\u001b[0m age \u001b[38;5;241m=\u001b[39m \u001b[38;5;241m35\u001b[39m\n\u001b[1;32m----> 3\u001b[0m \u001b[38;5;28mprint\u001b[39m(name \u001b[38;5;241m+\u001b[39m \u001b[38;5;124m\"\u001b[39m\u001b[38;5;124m is \u001b[39m\u001b[38;5;124m\"\u001b[39m \u001b[38;5;241m+\u001b[39m age \u001b[38;5;241m+\u001b[39m \u001b[38;5;124m\"\u001b[39m\u001b[38;5;124m years old.\u001b[39m\u001b[38;5;124m\"\u001b[39m)\n",
      "\u001b[1;31mTypeError\u001b[0m: can only concatenate str (not \"int\") to str"
     ]
    }
   ],
   "source": [
    "name = \"Sherlock Holmes\"\n",
    "age = 35\n",
    "print(name + \" is \" + age + \" years old.\") # Will throw an erro because of type incompatibility\n"
   ]
  },
  {
   "cell_type": "code",
   "execution_count": 8,
   "metadata": {},
   "outputs": [
    {
     "name": "stdout",
     "output_type": "stream",
     "text": [
      "Sherlock Holmes is 35 years old.\n"
     ]
    }
   ],
   "source": [
    "name = \"Sherlock Holmes\"\n",
    "age = 35\n",
    "print(name + \" is \" + str(age) + \" years old.\")"
   ]
  },
  {
   "cell_type": "markdown",
   "metadata": {},
   "source": [
    "Formatting a string using f-strings:"
   ]
  },
  {
   "cell_type": "code",
   "execution_count": 9,
   "metadata": {},
   "outputs": [
    {
     "name": "stdout",
     "output_type": "stream",
     "text": [
      "Sherlock Holmes is 35 years old.\n"
     ]
    }
   ],
   "source": [
    "name = \"Sherlock Holmes\"\n",
    "age = 35\n",
    "print(f\"{name} is {age} years old.\")"
   ]
  },
  {
   "cell_type": "markdown",
   "metadata": {},
   "source": [
    "Formatting a string using format() function:"
   ]
  },
  {
   "cell_type": "code",
   "execution_count": 10,
   "metadata": {},
   "outputs": [
    {
     "name": "stdout",
     "output_type": "stream",
     "text": [
      "Sherlock Holmes is 35 years old.\n"
     ]
    }
   ],
   "source": [
    "name = \"Sherlock Holmes\"\n",
    "age = 35\n",
    "print(\"{} is {} years old.\".format(name, age))"
   ]
  },
  {
   "cell_type": "markdown",
   "metadata": {},
   "source": [
    "Formatting a string using % formatting"
   ]
  },
  {
   "cell_type": "code",
   "execution_count": 11,
   "metadata": {},
   "outputs": [
    {
     "name": "stdout",
     "output_type": "stream",
     "text": [
      "Sherlock Holmes is 35.20 years old.\n"
     ]
    }
   ],
   "source": [
    "name = \"Sherlock Holmes\"\n",
    "age = 35.2\n",
    "print(\"%s is %.2f years old.\" % (name, age))"
   ]
  },
  {
   "cell_type": "markdown",
   "metadata": {},
   "source": [
    "Some more string methods:"
   ]
  },
  {
   "cell_type": "code",
   "execution_count": 12,
   "metadata": {},
   "outputs": [
    {
     "name": "stdout",
     "output_type": "stream",
     "text": [
      "PYTHON\n",
      "python\n",
      "Twinkle, twinkle, liite star.\n",
      " Twinkle, periwinkle, liite star.\n",
      "[' Twinkle', ' twinkle', ' liite star.']\n",
      "1\n",
      "1\n",
      "10\n",
      "-1\n",
      "False\n",
      "True\n"
     ]
    }
   ],
   "source": [
    "str1 = ' Twinkle, twinkle, liite star.'\n",
    "str2 = 'Python'\n",
    "\n",
    "print(str2.upper())\n",
    "print(str2.lower())\n",
    "print(str1.strip())\n",
    "print(str1.replace('twinkle', 'periwinkle'))\n",
    "print(str1.split(','))\n",
    "print(str1.count('Twinkle'))\n",
    "print(str1.count('twinkle', 5, 20))\n",
    "print(str1.find('t'))\n",
    "print(str1.find('z'))\n",
    "print(str1.endswith('. '))\n",
    "print(str1.startswith(' Twinkle'))"
   ]
  }
 ],
 "metadata": {
  "kernelspec": {
   "display_name": "base",
   "language": "python",
   "name": "python3"
  },
  "language_info": {
   "codemirror_mode": {
    "name": "ipython",
    "version": 3
   },
   "file_extension": ".py",
   "mimetype": "text/x-python",
   "name": "python",
   "nbconvert_exporter": "python",
   "pygments_lexer": "ipython3",
   "version": "3.12.7"
  }
 },
 "nbformat": 4,
 "nbformat_minor": 2
}
